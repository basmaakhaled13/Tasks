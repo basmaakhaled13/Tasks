{
 "cells": [
  {
   "cell_type": "code",
   "execution_count": 1,
   "metadata": {},
   "outputs": [
    {
     "name": "stdout",
     "output_type": "stream",
     "text": [
      "DIGTLYLLFGAWAGVLGTALSLLIR\n"
     ]
    },
    {
     "data": {
      "text/plain": [
       "18"
      ]
     },
     "execution_count": 1,
     "metadata": {},
     "output_type": "execute_result"
    }
   ],
   "source": [
    "from pyopenms import *\n",
    "from urllib.request import urlretrieve\n",
    "qh= \"https://www.uniprot.org/uniprot/Q5XS99.fasta\"\n",
    "urlretrieve (qh , \"Human.fasta\")\n",
    "\n",
    "dig = ProteaseDigestion()\n",
    "dig.getEnzymeName() # Trypsin\n",
    "bsa = \"\".join([l.strip() for l in open(\"Human.fasta\").readlines()[1:]])\n",
    "bsa = AASequence.fromString(bsa)\n",
    "# create all digestion products\n",
    "result = []\n",
    "dig.digest(bsa, result)\n",
    "print(result[2].toString())\n",
    "len(result) "
   ]
  },
  {
   "cell_type": "code",
   "execution_count": 2,
   "metadata": {},
   "outputs": [
    {
     "name": "stdout",
     "output_type": "stream",
     "text": [
      "WLFSTNHK\n",
      "DIGTLYLLFGAWAGVLGTALSLLIR\n",
      "EPFGYMGMVWAMMSIGFLGFIVWAHHMFTVGMDVDTR\n",
      "AYFTSATMIIAIPTGVK\n",
      "VFSWLATLHGSNMK\n",
      "IHFTIMFIGVNLTFFPQHFLGLSGMPR\n",
      "YSDYPDAYTTWNILSSVGSFISLTAVMLMIFMIWEAFASK\n",
      "VLMVEEPSMNLEWLYGCPPPYHTFEEPVYMK\n"
     ]
    }
   ],
   "source": [
    "dig.digest(bsa, result, 7, 40)\n",
    "for s in result:\n",
    "    print(s.toString())"
   ]
  },
  {
   "cell_type": "code",
   "execution_count": 3,
   "metadata": {},
   "outputs": [
    {
     "name": "stdout",
     "output_type": "stream",
     "text": [
      "WLFSTNHK\n",
      "DIGTLYLLFGAWAGVLGTALSLLIR\n",
      "EPFGYMGMVWAMMSIGFLGFIVWAHHMFTVGMDVDTR\n",
      "AYFTSATMIIAIPTGVK\n",
      "VFSWLATLHGSNMK\n",
      "IHFTIMFIGVNLTFFPQHFLGLSGMPR\n",
      "YSDYPDAYTTWNILSSVGSFISLTAVMLMIFMIWEAFASK\n",
      "VLMVEEPSMNLEWLYGCPPPYHTFEEPVYMK\n",
      "MFADRWLFSTNHK\n",
      "WLFSTNHKDIGTLYLLFGAWAGVLGTALSLLIR\n",
      "KEPFGYMGMVWAMMSIGFLGFIVWAHHMFTVGMDVDTR\n",
      "AYFTSATMIIAIPTGVKVFSWLATLHGSNMK\n",
      "IHFTIMFIGVNLTFFPQHFLGLSGMPRR\n",
      "KVLMVEEPSMNLEWLYGCPPPYHTFEEPVYMK\n",
      "VLMVEEPSMNLEWLYGCPPPYHTFEEPVYMKS\n",
      "MFADRWLFSTNHKDIGTLYLLFGAWAGVLGTALSLLIR\n",
      "RKVLMVEEPSMNLEWLYGCPPPYHTFEEPVYMK\n",
      "KVLMVEEPSMNLEWLYGCPPPYHTFEEPVYMKS\n"
     ]
    }
   ],
   "source": [
    "dig.setMissedCleavages(2)\n",
    "dig.digest(bsa, result, 7, 40)\n",
    "for s in result:\n",
    "    print(s.toString())"
   ]
  },
  {
   "cell_type": "code",
   "execution_count": 4,
   "metadata": {},
   "outputs": [
    {
     "name": "stdout",
     "output_type": "stream",
     "text": [
      "FNFQNTNTR\n"
     ]
    },
    {
     "data": {
      "text/plain": [
       "47"
      ]
     },
     "execution_count": 4,
     "metadata": {},
     "output_type": "execute_result"
    }
   ],
   "source": [
    "from urllib.request import urlretrieve\n",
    "qh = \"https://www.uniprot.org/uniprot/P07257.fasta\"\n",
    "urlretrieve (qh , \"yeast.fasta\")\n",
    "dig = ProteaseDigestion()\n",
    "dig.getEnzymeName() # Trypsin\n",
    "bsa = \"\".join([l.strip() for l in open(\"yeast.fasta\").readlines()[1:]])\n",
    "bsa = AASequence.fromString(bsa)\n",
    "result = []\n",
    "dig.digest(bsa, result)\n",
    "print(result[9].toString())\n",
    "len(result) "
   ]
  },
  {
   "cell_type": "code",
   "execution_count": 5,
   "metadata": {},
   "outputs": [
    {
     "name": "stdout",
     "output_type": "stream",
     "text": [
      "LQFAQGSVR\n",
      "ISTLAVK\n",
      "DGVAHLLNR\n",
      "FNFQNTNTR\n",
      "ESELLGGTFK\n",
      "DDLPYYVNALADVLYK\n",
      "TAFKPHELTESVLPAAR\n",
      "YDYAVAEQCPVK\n",
      "SAEDQLYAITFR\n",
      "GLGNPLLYDGVER\n",
      "VSLQDIK\n",
      "ENLEVSGENVVEADLK\n",
      "FVDESLLSTLPAGK\n",
      "FFLGEENR\n",
      "FIGDSVAAIGIPVNK\n",
      "ASLAQYEVLANYLTSALSELSGLISSAK\n",
      "FTDGGLFTLFVR\n",
      "DQDSAVVSSNIK\n",
      "DLSPAINYTK\n",
      "NAVQNESVSSPIELNFDAVK\n",
      "FNYVAVGDVSNLPYLDEL\n"
     ]
    }
   ],
   "source": [
    "dig.digest(bsa, result, 7, 40)\n",
    "for s in result:\n",
    "    print(s.toString())"
   ]
  },
  {
   "cell_type": "code",
   "execution_count": 6,
   "metadata": {},
   "outputs": [
    {
     "name": "stdout",
     "output_type": "stream",
     "text": [
      "LQFAQGSVR\n",
      "ISTLAVK\n",
      "DGVAHLLNR\n",
      "FNFQNTNTR\n",
      "ESELLGGTFK\n",
      "DDLPYYVNALADVLYK\n",
      "TAFKPHELTESVLPAAR\n",
      "YDYAVAEQCPVK\n",
      "SAEDQLYAITFR\n",
      "GLGNPLLYDGVER\n",
      "VSLQDIK\n",
      "ENLEVSGENVVEADLK\n",
      "FVDESLLSTLPAGK\n",
      "FFLGEENR\n",
      "FIGDSVAAIGIPVNK\n",
      "ASLAQYEVLANYLTSALSELSGLISSAK\n",
      "FTDGGLFTLFVR\n",
      "DQDSAVVSSNIK\n",
      "DLSPAINYTK\n",
      "NAVQNESVSSPIELNFDAVK\n",
      "FNYVAVGDVSNLPYLDEL\n",
      "MLSAARLQFAQGSVR\n",
      "LQFAQGSVRR\n",
      "RLTVSAR\n",
      "LTVSARDAPTK\n",
      "DAPTKISTLAVK\n",
      "ISTLAVKVHGGSR\n",
      "VHGGSRYATK\n",
      "YATKDGVAHLLNR\n",
      "DGVAHLLNRFNFQNTNTR\n",
      "FNFQNTNTRSALK\n",
      "SALKLVR\n",
      "LVRESELLGGTFK\n",
      "ESELLGGTFKSTLDR\n",
      "STLDREYITLK\n",
      "EYITLKATFLK\n",
      "ATFLKDDLPYYVNALADVLYK\n",
      "DDLPYYVNALADVLYKTAFKPHELTESVLPAAR\n",
      "TAFKPHELTESVLPAARYDYAVAEQCPVK\n",
      "YDYAVAEQCPVKSAEDQLYAITFR\n",
      "SAEDQLYAITFRK\n",
      "KGLGNPLLYDGVER\n",
      "GLGNPLLYDGVERVSLQDIK\n",
      "VSLQDIKDFADK\n",
      "DFADKVYTK\n",
      "VYTKENLEVSGENVVEADLK\n",
      "ENLEVSGENVVEADLKR\n",
      "RFVDESLLSTLPAGK\n",
      "FVDESLLSTLPAGKSLVSK\n",
      "SLVSKSEPK\n",
      "SEPKFFLGEENR\n",
      "FFLGEENRVR\n",
      "VRFIGDSVAAIGIPVNK\n",
      "ASLAQYEVLANYLTSALSELSGLISSAKLDK\n",
      "LDKFTDGGLFTLFVR\n",
      "FTDGGLFTLFVRDQDSAVVSSNIK\n",
      "DQDSAVVSSNIKK\n",
      "KIVADLK\n",
      "IVADLKK\n",
      "GKDLSPAINYTK\n",
      "DLSPAINYTKLK\n",
      "LKNAVQNESVSSPIELNFDAVK\n",
      "NAVQNESVSSPIELNFDAVKDFK\n",
      "LGKFNYVAVGDVSNLPYLDEL\n",
      "MLSAARLQFAQGSVRR\n",
      "LQFAQGSVRRLTVSAR\n",
      "RLTVSARDAPTK\n",
      "LTVSARDAPTKISTLAVK\n",
      "DAPTKISTLAVKVHGGSR\n",
      "ISTLAVKVHGGSRYATK\n",
      "VHGGSRYATKDGVAHLLNR\n",
      "YATKDGVAHLLNRFNFQNTNTR\n",
      "DGVAHLLNRFNFQNTNTRSALK\n",
      "FNFQNTNTRSALKLVR\n",
      "SALKLVRESELLGGTFK\n",
      "LVRESELLGGTFKSTLDR\n",
      "ESELLGGTFKSTLDREYITLK\n",
      "STLDREYITLKATFLK\n",
      "EYITLKATFLKDDLPYYVNALADVLYK\n",
      "ATFLKDDLPYYVNALADVLYKTAFKPHELTESVLPAAR\n",
      "YDYAVAEQCPVKSAEDQLYAITFRK\n",
      "SAEDQLYAITFRKGLGNPLLYDGVER\n",
      "KGLGNPLLYDGVERVSLQDIK\n",
      "GLGNPLLYDGVERVSLQDIKDFADK\n",
      "VSLQDIKDFADKVYTK\n",
      "DFADKVYTKENLEVSGENVVEADLK\n",
      "VYTKENLEVSGENVVEADLKR\n",
      "ENLEVSGENVVEADLKRFVDESLLSTLPAGK\n",
      "RFVDESLLSTLPAGKSLVSK\n",
      "FVDESLLSTLPAGKSLVSKSEPK\n",
      "SLVSKSEPKFFLGEENR\n",
      "SEPKFFLGEENRVR\n",
      "FFLGEENRVRFIGDSVAAIGIPVNK\n",
      "LDKFTDGGLFTLFVRDQDSAVVSSNIK\n",
      "FTDGGLFTLFVRDQDSAVVSSNIKK\n",
      "DQDSAVVSSNIKKIVADLK\n",
      "KIVADLKK\n",
      "IVADLKKGK\n",
      "KGKDLSPAINYTK\n",
      "GKDLSPAINYTKLK\n",
      "DLSPAINYTKLKNAVQNESVSSPIELNFDAVK\n",
      "LKNAVQNESVSSPIELNFDAVKDFK\n",
      "NAVQNESVSSPIELNFDAVKDFKLGK\n",
      "DFKLGKFNYVAVGDVSNLPYLDEL\n"
     ]
    }
   ],
   "source": [
    "dig.setMissedCleavages(2)\n",
    "dig.digest(bsa, result, 7, 40)\n",
    "for s in result:\n",
    "    print(s.toString())"
   ]
  },
  {
   "cell_type": "code",
   "execution_count": 7,
   "metadata": {},
   "outputs": [
    {
     "name": "stdout",
     "output_type": "stream",
     "text": [
      "[b'Lys-C', b'Arg-C', b'Trypsin', b'Formic_acid', b'Chymotrypsin', b'Lys-N', b'Asp-N/B', b'Chymotrypsin/P', b'Arg-C/P', b'Lys-C/P', b'Asp-N_ambic', b'CNBr', b'PepsinA', b'TrypChymo', b'Trypsin/P', b'Asp-N', b'leukocyte elastase', b'unspecific cleavage', b'2-iodobenzoate', b'V8-E', b'proline-endopeptidase/HKR', b'Glu-C+P', b'elastase-trypsin-chymotrypsin', b'iodosobenzoate', b'proline endopeptidase', b'cyanogen-bromide', b'no cleavage', b'Alpha-lytic protease', b'staphylococcal protease/D', b'PepsinA + P', b'Clostripain/P', b'V8-DE', b'glutamyl endopeptidase']\n"
     ]
    },
    {
     "data": {
      "text/plain": [
       "'(?<=[KX])(?!P)'"
      ]
     },
     "execution_count": 7,
     "metadata": {},
     "output_type": "execute_result"
    }
   ],
   "source": [
    "names = []\n",
    "ProteaseDB().getAllNames(names)\n",
    "len(names) \n",
    "print(names)\n",
    "\n",
    "e = ProteaseDB().getEnzyme('Lys-C')\n",
    "e.getRegExDescription()\n",
    "e.getRegEx()"
   ]
  },
  {
   "cell_type": "code",
   "execution_count": 11,
   "metadata": {},
   "outputs": [
    {
     "name": "stdout",
     "output_type": "stream",
     "text": [
      "K\n"
     ]
    },
    {
     "data": {
      "text/plain": [
       "10"
      ]
     },
     "execution_count": 11,
     "metadata": {},
     "output_type": "execute_result"
    }
   ],
   "source": [
    "from pyopenms import *\n",
    "from urllib.request import urlretrieve\n",
    "qh= \"https://www.uniprot.org/uniprot/Q5XS99.fasta\"\n",
    "urlretrieve (qh , \"Human.fasta\")\n",
    "\n",
    "dig = ProteaseDigestion()\n",
    "dig.setEnzyme('Lys-C')\n",
    "bsa = \"\".join([l.strip() for l in open(\"Human.fasta\").readlines()[1:]])\n",
    "bsa = AASequence.fromString(bsa)\n",
    "result = []\n",
    "dig.digest(bsa, result)\n",
    "print(result[2].toString())\n",
    "len(result) "
   ]
  },
  {
   "cell_type": "code",
   "execution_count": 12,
   "metadata": {},
   "outputs": [
    {
     "name": "stdout",
     "output_type": "stream",
     "text": [
      "SAEDQLYAITFRK\n"
     ]
    },
    {
     "data": {
      "text/plain": [
       "31"
      ]
     },
     "execution_count": 12,
     "metadata": {},
     "output_type": "execute_result"
    }
   ],
   "source": [
    "from urllib.request import urlretrieve\n",
    "qh = \"https://www.uniprot.org/uniprot/P07257.fasta\"\n",
    "urlretrieve (qh , \"yeast.fasta\")\n",
    "dig = ProteaseDigestion()\n",
    "dig.setEnzyme('Lys-C') \n",
    "bsa = \"\".join([l.strip() for l in open(\"yeast.fasta\").readlines()[1:]])\n",
    "bsa = AASequence.fromString(bsa)\n",
    "result = []\n",
    "dig.digest(bsa, result)\n",
    "print(result[9].toString())\n",
    "len(result) "
   ]
  },
  {
   "cell_type": "code",
   "execution_count": null,
   "metadata": {},
   "outputs": [],
   "source": []
  }
 ],
 "metadata": {
  "kernelspec": {
   "display_name": "Python 3",
   "language": "python",
   "name": "python3"
  },
  "language_info": {
   "codemirror_mode": {
    "name": "ipython",
    "version": 3
   },
   "file_extension": ".py",
   "mimetype": "text/x-python",
   "name": "python",
   "nbconvert_exporter": "python",
   "pygments_lexer": "ipython3",
   "version": "3.8.5"
  }
 },
 "nbformat": 4,
 "nbformat_minor": 4
}
