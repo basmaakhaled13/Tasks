{
 "cells": [
  {
   "cell_type": "code",
   "execution_count": 2,
   "metadata": {},
   "outputs": [
    {
     "name": "stdout",
     "output_type": "stream",
     "text": [
      "Requirement already satisfied: numpy in c:\\users\\yotaa\\anaconda3\\lib\\site-packages (1.19.2)\n",
      "Note: you may need to restart the kernel to use updated packages.\n"
     ]
    }
   ],
   "source": [
    "pip install numpy"
   ]
  },
  {
   "cell_type": "code",
   "execution_count": 3,
   "metadata": {},
   "outputs": [
    {
     "name": "stdout",
     "output_type": "stream",
     "text": [
      "Requirement already satisfied: pyopenms in c:\\users\\yotaa\\anaconda3\\lib\\site-packages (2.7.0)\n",
      "Requirement already satisfied: numpy in c:\\users\\yotaa\\anaconda3\\lib\\site-packages (from pyopenms) (1.19.2)\n",
      "Note: you may need to restart the kernel to use updated packages.\n"
     ]
    }
   ],
   "source": [
    "pip install pyopenms"
   ]
  },
  {
   "cell_type": "code",
   "execution_count": 4,
   "metadata": {},
   "outputs": [
    {
     "name": "stdout",
     "output_type": "stream",
     "text": [
      "Valine\n",
      "117.07897935090001\n",
      "Alanine\n",
      "89.04767922330001\n",
      "Lysine\n",
      "146.1055284466\n"
     ]
    }
   ],
   "source": [
    "from pyopenms import *\n",
    "V = ResidueDB().getResidue(\"V\")\n",
    "print(V.getName())\n",
    "v_mass = V.getMonoWeight()\n",
    "print(v_mass)\n",
    "\n",
    "\n",
    "A = ResidueDB().getResidue(\"A\")\n",
    "print(A.getName()) \n",
    "a_mass = A.getMonoWeight()\n",
    "print(a_mass)\n",
    "\n",
    "K = ResidueDB().getResidue(\"K\")\n",
    "print(K.getName())\n",
    "k_mass = K.getMonoWeight()\n",
    "print(k_mass) "
   ]
  },
  {
   "cell_type": "code",
   "execution_count": 8,
   "metadata": {},
   "outputs": [
    {
     "name": "stdout",
     "output_type": "stream",
     "text": [
      "441.2798662441\n"
     ]
    }
   ],
   "source": [
    "total_mass = v_mass + a_mass + k_mass+ a_mass\n",
    "print(total_mass)"
   ]
  },
  {
   "cell_type": "code",
   "execution_count": 7,
   "metadata": {},
   "outputs": [
    {
     "name": "stdout",
     "output_type": "stream",
     "text": [
      "387.24817105270006\n"
     ]
    }
   ],
   "source": [
    "sequence = AASequence.fromString(\"VAKA\") \n",
    "fullmass = sequence.getMonoWeight() \n",
    "print(fullmass) "
   ]
  },
  {
   "cell_type": "code",
   "execution_count": null,
   "metadata": {},
   "outputs": [],
   "source": [
    "# there are difference between mass(\"VAKA\") and Mass(\"V\") + Mass(\"A\") + Mass(\"K\") + Mass(\"A\")"
   ]
  }
 ],
 "metadata": {
  "kernelspec": {
   "display_name": "Python 3",
   "language": "python",
   "name": "python3"
  },
  "language_info": {
   "codemirror_mode": {
    "name": "ipython",
    "version": 3
   },
   "file_extension": ".py",
   "mimetype": "text/x-python",
   "name": "python",
   "nbconvert_exporter": "python",
   "pygments_lexer": "ipython3",
   "version": "3.8.5"
  }
 },
 "nbformat": 4,
 "nbformat_minor": 4
}
